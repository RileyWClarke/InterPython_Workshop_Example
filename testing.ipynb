{
 "cells": [
  {
   "cell_type": "markdown",
   "id": "4a41c862-1f3f-439c-8b03-2c374647d3e4",
   "metadata": {},
   "source": [
    "# Section 2: Ensuring Correctness of Software at Scale"
   ]
  },
  {
   "cell_type": "markdown",
   "id": "ff99db81-b652-418b-851e-7a18edfc8a5b",
   "metadata": {},
   "source": [
    "## Imports"
   ]
  },
  {
   "cell_type": "code",
   "execution_count": 8,
   "id": "92b1b1df-3760-4fe2-a7c0-5ae27bd63dc7",
   "metadata": {},
   "outputs": [],
   "source": [
    "import pandas as pd\n",
    "import lcanalyzer.models as models"
   ]
  },
  {
   "cell_type": "markdown",
   "id": "d9078f78-85f8-44bc-b6b5-717457c12b7d",
   "metadata": {},
   "source": [
    "## Params"
   ]
  },
  {
   "cell_type": "code",
   "execution_count": 10,
   "id": "efe4ca04-87bf-47ae-a5a6-bbd251980d59",
   "metadata": {},
   "outputs": [],
   "source": [
    "bands = 'ugrizy'\n",
    "colname_mag = 'psfMag'"
   ]
  },
  {
   "cell_type": "markdown",
   "id": "a6dff89a-8113-4a83-a5d9-e97c9dbdee09",
   "metadata": {},
   "source": [
    "## Loading Data"
   ]
  },
  {
   "cell_type": "code",
   "execution_count": 3,
   "id": "aa131d5d-eec3-4400-b6f6-53228d91aa9b",
   "metadata": {},
   "outputs": [
    {
     "name": "stdout",
     "output_type": "stream",
     "text": [
      "<class 'pandas.core.frame.DataFrame'>\n",
      "RangeIndex: 11177 entries, 0 to 11176\n",
      "Data columns (total 12 columns):\n",
      " #   Column       Non-Null Count  Dtype  \n",
      "---  ------       --------------  -----  \n",
      " 0   band         11177 non-null  object \n",
      " 1   ccdVisitId   11177 non-null  int64  \n",
      " 2   coord_ra     11177 non-null  float64\n",
      " 3   coord_dec    11177 non-null  float64\n",
      " 4   objectId     11177 non-null  int64  \n",
      " 5   psfFlux      11177 non-null  float64\n",
      " 6   psfFluxErr   11177 non-null  float64\n",
      " 7   psfMag       10944 non-null  float64\n",
      " 8   ccdVisitId2  11177 non-null  int64  \n",
      " 9   band2        11177 non-null  object \n",
      " 10  expMidptMJD  11177 non-null  float64\n",
      " 11  zeroPoint    11177 non-null  float32\n",
      "dtypes: float32(1), float64(6), int64(3), object(2)\n",
      "memory usage: 1004.3+ KB\n"
     ]
    }
   ],
   "source": [
    "lc_datasets = {}\n",
    "lc_datasets['lsst'] = pd.read_pickle('data/lsst_RRLyr.pkl')\n",
    "lc_datasets['lsst'].info()"
   ]
  },
  {
   "cell_type": "markdown",
   "id": "2aa2c0b2-10b0-4711-83ba-a709fe4cafed",
   "metadata": {},
   "source": [
    "## Inspecting Data"
   ]
  },
  {
   "cell_type": "code",
   "execution_count": 4,
   "id": "550867a4-d7e8-40af-8f3a-7262edde47b8",
   "metadata": {},
   "outputs": [
    {
     "data": {
      "text/html": [
       "<div>\n",
       "<style scoped>\n",
       "    .dataframe tbody tr th:only-of-type {\n",
       "        vertical-align: middle;\n",
       "    }\n",
       "\n",
       "    .dataframe tbody tr th {\n",
       "        vertical-align: top;\n",
       "    }\n",
       "\n",
       "    .dataframe thead th {\n",
       "        text-align: right;\n",
       "    }\n",
       "</style>\n",
       "<table border=\"1\" class=\"dataframe\">\n",
       "  <thead>\n",
       "    <tr style=\"text-align: right;\">\n",
       "      <th></th>\n",
       "      <th>band</th>\n",
       "      <th>ccdVisitId</th>\n",
       "      <th>coord_ra</th>\n",
       "      <th>coord_dec</th>\n",
       "      <th>objectId</th>\n",
       "      <th>psfFlux</th>\n",
       "      <th>psfFluxErr</th>\n",
       "      <th>psfMag</th>\n",
       "      <th>ccdVisitId2</th>\n",
       "      <th>band2</th>\n",
       "      <th>expMidptMJD</th>\n",
       "      <th>zeroPoint</th>\n",
       "    </tr>\n",
       "  </thead>\n",
       "  <tbody>\n",
       "    <tr>\n",
       "      <th>0</th>\n",
       "      <td>y</td>\n",
       "      <td>1032263018</td>\n",
       "      <td>62.462569</td>\n",
       "      <td>-44.11336</td>\n",
       "      <td>1251384969897480052</td>\n",
       "      <td>-515.183603</td>\n",
       "      <td>1697.218490</td>\n",
       "      <td>NaN</td>\n",
       "      <td>1032263018</td>\n",
       "      <td>y</td>\n",
       "      <td>61100.069706</td>\n",
       "      <td>30.602301</td>\n",
       "    </tr>\n",
       "    <tr>\n",
       "      <th>1</th>\n",
       "      <td>y</td>\n",
       "      <td>1033987172</td>\n",
       "      <td>62.462569</td>\n",
       "      <td>-44.11336</td>\n",
       "      <td>1251384969897480052</td>\n",
       "      <td>3151.738459</td>\n",
       "      <td>1686.955775</td>\n",
       "      <td>22.653625</td>\n",
       "      <td>1033987172</td>\n",
       "      <td>y</td>\n",
       "      <td>61102.068464</td>\n",
       "      <td>30.606100</td>\n",
       "    </tr>\n",
       "    <tr>\n",
       "      <th>2</th>\n",
       "      <td>u</td>\n",
       "      <td>675163080</td>\n",
       "      <td>62.462569</td>\n",
       "      <td>-44.11336</td>\n",
       "      <td>1251384969897480052</td>\n",
       "      <td>183.449123</td>\n",
       "      <td>209.242045</td>\n",
       "      <td>25.741211</td>\n",
       "      <td>675163080</td>\n",
       "      <td>u</td>\n",
       "      <td>60582.247144</td>\n",
       "      <td>30.469101</td>\n",
       "    </tr>\n",
       "    <tr>\n",
       "      <th>3</th>\n",
       "      <td>y</td>\n",
       "      <td>443055067</td>\n",
       "      <td>62.462569</td>\n",
       "      <td>-44.11336</td>\n",
       "      <td>1251384969897480052</td>\n",
       "      <td>-704.848327</td>\n",
       "      <td>1624.400086</td>\n",
       "      <td>NaN</td>\n",
       "      <td>443055067</td>\n",
       "      <td>y</td>\n",
       "      <td>60215.203585</td>\n",
       "      <td>30.612801</td>\n",
       "    </tr>\n",
       "    <tr>\n",
       "      <th>4</th>\n",
       "      <td>u</td>\n",
       "      <td>466722002</td>\n",
       "      <td>62.462569</td>\n",
       "      <td>-44.11336</td>\n",
       "      <td>1251384969897480052</td>\n",
       "      <td>382.472233</td>\n",
       "      <td>278.926670</td>\n",
       "      <td>24.943500</td>\n",
       "      <td>466722002</td>\n",
       "      <td>u</td>\n",
       "      <td>60261.078221</td>\n",
       "      <td>30.461201</td>\n",
       "    </tr>\n",
       "  </tbody>\n",
       "</table>\n",
       "</div>"
      ],
      "text/plain": [
       "  band  ccdVisitId   coord_ra  coord_dec             objectId      psfFlux  \\\n",
       "0    y  1032263018  62.462569  -44.11336  1251384969897480052  -515.183603   \n",
       "1    y  1033987172  62.462569  -44.11336  1251384969897480052  3151.738459   \n",
       "2    u   675163080  62.462569  -44.11336  1251384969897480052   183.449123   \n",
       "3    y   443055067  62.462569  -44.11336  1251384969897480052  -704.848327   \n",
       "4    u   466722002  62.462569  -44.11336  1251384969897480052   382.472233   \n",
       "\n",
       "    psfFluxErr     psfMag  ccdVisitId2 band2   expMidptMJD  zeroPoint  \n",
       "0  1697.218490        NaN   1032263018     y  61100.069706  30.602301  \n",
       "1  1686.955775  22.653625   1033987172     y  61102.068464  30.606100  \n",
       "2   209.242045  25.741211    675163080     u  60582.247144  30.469101  \n",
       "3  1624.400086        NaN    443055067     y  60215.203585  30.612801  \n",
       "4   278.926670  24.943500    466722002     u  60261.078221  30.461201  "
      ]
     },
     "execution_count": 4,
     "metadata": {},
     "output_type": "execute_result"
    }
   ],
   "source": [
    "lc_datasets['lsst'].head()"
   ]
  },
  {
   "cell_type": "code",
   "execution_count": 5,
   "id": "63da9001-d78f-4e9d-8b5d-9eb04640d06f",
   "metadata": {},
   "outputs": [],
   "source": [
    "### Pick an object\n",
    "obj_id = lc_datasets['lsst']['objectId'].unique()[4]"
   ]
  },
  {
   "cell_type": "code",
   "execution_count": 6,
   "id": "472cfccb-2ae0-4a7f-b21c-4e4ac649c0f3",
   "metadata": {},
   "outputs": [],
   "source": [
    "### Get all the observations for this obj_id for each band\n",
    "# Create an empty dict\n",
    "lc = {}\n",
    "\n",
    "# For each band create a bool array that indicates\n",
    "# that this observation belongs to a certain object and is made in a\n",
    "# certain band\n",
    "for b in bands:\n",
    "    filt_band_obj = (lc_datasets['lsst']['objectId'] == obj_id) & (\n",
    "        lc_datasets['lsst']['band'] == b\n",
    "    )\n",
    "    # Select the observations and store in the dict 'lc'\n",
    "    lc[b] = lc_datasets['lsst'][filt_band_obj]"
   ]
  },
  {
   "cell_type": "markdown",
   "id": "1a391d00-cbf6-47b1-9b0e-5e97cd1dfd43",
   "metadata": {},
   "source": [
    "## Trying the models.py functions"
   ]
  },
  {
   "cell_type": "code",
   "execution_count": 11,
   "id": "21dd0073-5f67-45bb-a45f-2789254c5bed",
   "metadata": {},
   "outputs": [
    {
     "data": {
      "text/plain": [
       "19.183367224358136"
      ]
     },
     "execution_count": 11,
     "metadata": {},
     "output_type": "execute_result"
    }
   ],
   "source": [
    "models.max_mag(lc['g'],colname_mag)"
   ]
  },
  {
   "cell_type": "markdown",
   "id": "7d969f25-dc1f-4a1b-9dcd-f6df1a4b6037",
   "metadata": {},
   "source": [
    "## Test Development"
   ]
  },
  {
   "cell_type": "code",
   "execution_count": 12,
   "id": "e92af5e5-e046-4b63-b6bf-0656501ae0b6",
   "metadata": {},
   "outputs": [
    {
     "data": {
      "text/plain": [
       "True"
      ]
     },
     "execution_count": 12,
     "metadata": {},
     "output_type": "execute_result"
    }
   ],
   "source": [
    "test_input = pd.DataFrame(data=[[1, 5, 3], [7, 8, 9], [3, 4, 1]], columns=list(\"abc\"))\n",
    "test_output = 7\n",
    "models.max_mag(test_input, \"a\") == test_output"
   ]
  },
  {
   "cell_type": "code",
   "execution_count": 13,
   "id": "5e1b6376-ec6c-4bac-97f0-bd4366184038",
   "metadata": {},
   "outputs": [],
   "source": [
    "### Get maximum values for all bands\n",
    "def calc_stat(lc, bands, mag_col):\n",
    "    # Define an empty dictionary where we will store the results\n",
    "    stat = {}\n",
    "    # For each band get the maximum value and store it in the dictionary\n",
    "    for b in bands:\n",
    "        stat[b + \"_max\"] = models.max_mag(lc[b], mag_col)\n",
    "    return stat"
   ]
  },
  {
   "cell_type": "code",
   "execution_count": 14,
   "id": "c31ca927-ac3d-48ce-9d17-aac19be7ca94",
   "metadata": {},
   "outputs": [
    {
     "data": {
      "text/plain": [
       "False"
      ]
     },
     "execution_count": 14,
     "metadata": {},
     "output_type": "execute_result"
    }
   ],
   "source": [
    "df1 = pd.DataFrame(data=[[1, 5, 3], [7, 8, 9], [3, 4, 1]], columns=list(\"abc\"))\n",
    "df2 = pd.DataFrame(data=[[7, 3, 2], [8, 4, 2], [5, 6, 4]], columns=list(\"abc\"))\n",
    "df3 = pd.DataFrame(data=[[2, 6, 3], [1, 3, 6], [8, 9, 1]], columns=list(\"abc\"))\n",
    "test_input = {\"df1\": df1, \"df2\": df2, \"df3\": df3}\n",
    "test_output = {\"df1_max\": 8, \"df12_max\": 6, \"df3_max\": 8}\n",
    "test_output == calc_stat(test_input, [\"df1\", \"df2\", \"df3\"], \"b\")"
   ]
  },
  {
   "cell_type": "code",
   "execution_count": null,
   "id": "104470ef-a22c-4f41-ba54-22d0304c3db9",
   "metadata": {},
   "outputs": [],
   "source": []
  }
 ],
 "metadata": {
  "kernelspec": {
   "display_name": "Python 3 (ipykernel)",
   "language": "python",
   "name": "python3"
  },
  "language_info": {
   "codemirror_mode": {
    "name": "ipython",
    "version": 3
   },
   "file_extension": ".py",
   "mimetype": "text/x-python",
   "name": "python",
   "nbconvert_exporter": "python",
   "pygments_lexer": "ipython3",
   "version": "3.9.6"
  }
 },
 "nbformat": 4,
 "nbformat_minor": 5
}
